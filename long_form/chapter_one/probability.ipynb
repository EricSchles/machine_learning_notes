{
 "cells": [
  {
   "cell_type": "code",
   "execution_count": null,
   "metadata": {
    "collapsed": false
   },
   "outputs": [],
   "source": [
    "def chance_of_occurrence(events):\n",
    "    \"\"\"\n",
    "    This is a model to assess the discrete probability of a set of events.\n",
    "    We are assuming every event occurs at least once.\n",
    "    Input:\n",
    "    @events - a enumeration of the total occurences for a set of events.\n",
    "    * type: list\n",
    "        \n",
    "    Output:\n",
    "    @probabilities - a list of the resulting probabilities of each event.\n",
    "    * type: list  \n",
    "    \"\"\"\n",
    "    universe_of_events = len(events)\n",
    "    frequencies_of_occurrence = {}\n",
    "    for event in events:\n",
    "        if event in frequencies_of_occurrence.keys():\n",
    "            frequencies_of_occurrence[event] += 1\n",
    "        else:\n",
    "            frequencies_of_occurrence[event] = 1\n",
    "    probabilities = {}\n",
    "    for event in frequencies_of_occurrence.keys():\n",
    "        probabilities[event] = frequencies_of_occurrence[event]*(1/universe_of_events)\n",
    "    return probabilities\n",
    "\n",
    "#import random\n",
    "#events = []\n",
    "#for _ in range(10000000000000):\n",
    "#    events.append(random.choice([\"h\",\"t\"]))\n",
    "    \n",
    "def are_events_fair(probabilities):\n",
    "    \"\"\"\n",
    "    This function asks if all the events of a set of probabilities are equally likely\n",
    "    Input:\n",
    "    @events - a dictionary of events where each event is the key \n",
    "    and each value is it's associated probability\n",
    "    * type: dictionary\n",
    "    \n",
    "    Output:\n",
    "    @result - A boolean saying whether or not the events are fair, True means fair, \n",
    "    False means not fair\n",
    "    * type: boolean\n",
    "    \"\"\"\n",
    "    total_number_of_events = len(probabilities.keys())\n",
    "    fair_probability = 1/float(total_number_of_events)\n",
    "    for event in probabilities.keys():\n",
    "        if probabilities[event] != fair_probability:\n",
    "            return False\n",
    "    return True\n",
    "\n",
    "chance_of_occurrence([1,1,1,4,3,5,6,2,1,2,3,4,5,1,2,3,5,6,2,3,4,5,2])\n",
    "print(chance_of_occurrence([\"sad\",\"kinda sad\",\"sad\",\"happy\",\"kinda happy\",\"happy\",\"happy\"]))"
   ]
  },
  {
   "cell_type": "code",
   "execution_count": null,
   "metadata": {
    "collapsed": false
   },
   "outputs": [],
   "source": [
    "from scipy import stats as st\n",
    "import matplotlib.pyplot as plt\n",
    "import numpy as np\n",
    "n,p = 5,0.4\n",
    "\n",
    "rv = st.binom(n, p)\n",
    "fig, ax = plt.subplots(1, 1)\n",
    "x = np.arange(st.binom.ppf(0.01, n, p),\n",
    "              st.binom.ppf(0.99, n, p))\n",
    "ax.plot(x, st.binom.pmf(x, n, p), 'bo', ms=8, label='binom pmf')\n",
    "ax.vlines(x, 0, st.binom.pmf(x, n, p), colors='b', lw=5, alpha=0.5)\n",
    "ax.vlines(x, 0, rv.pmf(x), colors='k', linestyles='-', lw=1,\n",
    "         label='frozen pmf')\n",
    "ax.legend(loc='best', frameon=False)\n",
    "plt.show()\n",
    "#to do - rewrite this code"
   ]
  },
  {
   "cell_type": "code",
   "execution_count": null,
   "metadata": {
    "collapsed": false
   },
   "outputs": [],
   "source": [
    "from scipy import stats as st\n",
    "st.binom_test([15,30], 0.5)"
   ]
  },
  {
   "cell_type": "code",
   "execution_count": 4,
   "metadata": {
    "collapsed": false
   },
   "outputs": [
    {
     "ename": "ImportError",
     "evalue": "cannot import name 'models'",
     "output_type": "error",
     "traceback": [
      "\u001b[0;31m---------------------------------------------------------------------------\u001b[0m",
      "\u001b[0;31mImportError\u001b[0m                               Traceback (most recent call last)",
      "\u001b[0;32m<ipython-input-4-e4d92a948601>\u001b[0m in \u001b[0;36m<module>\u001b[0;34m()\u001b[0m\n\u001b[0;32m----> 1\u001b[0;31m \u001b[0;32mfrom\u001b[0m \u001b[0mpgmpy\u001b[0m \u001b[0;32mimport\u001b[0m \u001b[0mmodels\u001b[0m\u001b[0;34m\u001b[0m\u001b[0m\n\u001b[0m\u001b[1;32m      2\u001b[0m \u001b[0;32mfrom\u001b[0m \u001b[0mpgmpy\u001b[0m \u001b[0;32mimport\u001b[0m \u001b[0mfactors\u001b[0m\u001b[0;34m\u001b[0m\u001b[0m\n\u001b[1;32m      3\u001b[0m \u001b[0mTabularCPD\u001b[0m \u001b[0;34m=\u001b[0m \u001b[0mfactors\u001b[0m\u001b[0;34m.\u001b[0m\u001b[0mdiscrete\u001b[0m\u001b[0;34m.\u001b[0m\u001b[0mTabularCPD\u001b[0m\u001b[0;34m\u001b[0m\u001b[0m\n\u001b[1;32m      4\u001b[0m \u001b[0mstudent\u001b[0m \u001b[0;34m=\u001b[0m \u001b[0mmodels\u001b[0m\u001b[0;34m.\u001b[0m\u001b[0mBayesianModel\u001b[0m\u001b[0;34m(\u001b[0m\u001b[0;34m)\u001b[0m\u001b[0;34m\u001b[0m\u001b[0m\n\u001b[1;32m      5\u001b[0m \u001b[0;34m\u001b[0m\u001b[0m\n",
      "\u001b[0;31mImportError\u001b[0m: cannot import name 'models'"
     ]
    }
   ],
   "source": [
    "\n"
   ]
  },
  {
   "cell_type": "code",
   "execution_count": 1,
   "metadata": {
    "collapsed": false
   },
   "outputs": [
    {
     "ename": "ImportError",
     "evalue": "cannot import name 'models'",
     "output_type": "error",
     "traceback": [
      "\u001b[0;31m---------------------------------------------------------------------------\u001b[0m",
      "\u001b[0;31mImportError\u001b[0m                               Traceback (most recent call last)",
      "\u001b[0;32m<ipython-input-1-2c9ab33577a4>\u001b[0m in \u001b[0;36m<module>\u001b[0;34m()\u001b[0m\n\u001b[0;32m----> 1\u001b[0;31m \u001b[0;32mfrom\u001b[0m \u001b[0mpgmpy\u001b[0m \u001b[0;32mimport\u001b[0m \u001b[0mmodels\u001b[0m\u001b[0;34m\u001b[0m\u001b[0m\n\u001b[0m",
      "\u001b[0;31mImportError\u001b[0m: cannot import name 'models'"
     ]
    }
   ],
   "source": [
    "from pgmpy import models"
   ]
  },
  {
   "cell_type": "code",
   "execution_count": null,
   "metadata": {
    "collapsed": true
   },
   "outputs": [],
   "source": []
  }
 ],
 "metadata": {
  "anaconda-cloud": {},
  "kernelspec": {
   "display_name": "Python 3",
   "language": "python",
   "name": "python3"
  },
  "language_info": {
   "codemirror_mode": {
    "name": "ipython",
    "version": 3
   },
   "file_extension": ".py",
   "mimetype": "text/x-python",
   "name": "python",
   "nbconvert_exporter": "python",
   "pygments_lexer": "ipython3",
   "version": "3.5.0"
  }
 },
 "nbformat": 4,
 "nbformat_minor": 1
}
