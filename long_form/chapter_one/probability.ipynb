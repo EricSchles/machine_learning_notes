{
 "cells": [
  {
   "cell_type": "code",
   "execution_count": null,
   "metadata": {
    "collapsed": false
   },
   "outputs": [],
   "source": [
    "def chance_of_occurrence(events):\n",
    "    \"\"\"\n",
    "    This is a model to assess the discrete probability of a set of events.\n",
    "    We are assuming every event occurs at least once.\n",
    "    Input:\n",
    "    @events - a enumeration of the total occurences for a set of events.\n",
    "    * type: list\n",
    "        \n",
    "    Output:\n",
    "    @probabilities - a list of the resulting probabilities of each event.\n",
    "    * type: list  \n",
    "    \"\"\"\n",
    "    universe_of_events = len(events)\n",
    "    frequencies_of_occurrence = {}\n",
    "    for event in events:\n",
    "        if event in frequencies_of_occurrence.keys():\n",
    "            frequencies_of_occurrence[event] += 1\n",
    "        else:\n",
    "            frequencies_of_occurrence[event] = 1\n",
    "    probabilities = {}\n",
    "    for event in frequencies_of_occurrence.keys():\n",
    "        probabilities[event] = frequencies_of_occurrence[event]*(1/universe_of_events)\n",
    "    return probabilities\n",
    "\n",
    "#import random\n",
    "#events = []\n",
    "#for _ in range(10000000000000):\n",
    "#    events.append(random.choice([\"h\",\"t\"]))\n",
    "    \n",
    "def are_events_fair(probabilities):\n",
    "    \"\"\"\n",
    "    This function asks if all the events of a set of probabilities are equally likely\n",
    "    Input:\n",
    "    @events - a dictionary of events where each event is the key \n",
    "    and each value is it's associated probability\n",
    "    * type: dictionary\n",
    "    \n",
    "    Output:\n",
    "    @result - A boolean saying whether or not the events are fair, True means fair, \n",
    "    False means not fair\n",
    "    * type: boolean\n",
    "    \"\"\"\n",
    "    total_number_of_events = len(probabilities.keys())\n",
    "    fair_probability = 1/float(total_number_of_events)\n",
    "    for event in probabilities.keys():\n",
    "        if probabilities[event] != fair_probability:\n",
    "            return False\n",
    "    return True\n",
    "\n",
    "chance_of_occurrence([1,1,1,4,3,5,6,2,1,2,3,4,5,1,2,3,5,6,2,3,4,5,2])"
   ]
  },
  {
   "cell_type": "code",
   "execution_count": null,
   "metadata": {
    "collapsed": false
   },
   "outputs": [],
   "source": []
  },
  {
   "cell_type": "code",
   "execution_count": null,
   "metadata": {
    "collapsed": false
   },
   "outputs": [],
   "source": []
  },
  {
   "cell_type": "code",
   "execution_count": null,
   "metadata": {
    "collapsed": false
   },
   "outputs": [],
   "source": [
    "\n"
   ]
  },
  {
   "cell_type": "code",
   "execution_count": null,
   "metadata": {
    "collapsed": false
   },
   "outputs": [],
   "source": []
  },
  {
   "cell_type": "code",
   "execution_count": null,
   "metadata": {
    "collapsed": true
   },
   "outputs": [],
   "source": []
  }
 ],
 "metadata": {
  "anaconda-cloud": {},
  "kernelspec": {
   "display_name": "Python 3",
   "language": "python",
   "name": "python3"
  },
  "language_info": {
   "codemirror_mode": {
    "name": "ipython",
    "version": 3
   },
   "file_extension": ".py",
   "mimetype": "text/x-python",
   "name": "python",
   "nbconvert_exporter": "python",
   "pygments_lexer": "ipython3",
   "version": "3.5.0"
  }
 },
 "nbformat": 4,
 "nbformat_minor": 1
}
