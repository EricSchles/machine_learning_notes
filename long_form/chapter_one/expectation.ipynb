{
 "cells": [
  {
   "cell_type": "code",
   "execution_count": null,
   "metadata": {
    "collapsed": true
   },
   "outputs": [],
   "source": [
    "def expectation(values,probabilities):\n",
    "    return sum([values[i]*probabilities[i] for i in range(len(values))])\n",
    "\n",
    "def chance_of_occurrence(events):\n",
    "    \"\"\"\n",
    "    This is a model to assess the discrete probability of a set of events.\n",
    "    We are assuming every event occurs at least once.\n",
    "    Input:\n",
    "    @events - a enumeration of the total occurences for a set of events.\n",
    "    * type: list\n",
    "        \n",
    "    Output:\n",
    "    @probabilities - a list of the resulting probabilities of each event.\n",
    "    * type: list  \n",
    "    \"\"\"\n",
    "    universe_of_events = len(events)\n",
    "    frequencies_of_occurrence = {}\n",
    "    for event in events:\n",
    "        if event in frequencies_of_occurrence.keys():\n",
    "            frequencies_of_occurrence[event] += 1\n",
    "        else:\n",
    "            frequencies_of_occurrence[event] = 1\n",
    "    probabilities = {}\n",
    "    for event in frequencies_of_occurrence.keys():\n",
    "        probabilities[event] = frequencies_of_occurrence[event]*(1/universe_of_events)\n",
    "    return probabilities\n",
    "\n",
    "events = []\n",
    "import random\n",
    "for roll in range(1,7):\n",
    "    for _ in range(random.randint(500,1000)):\n",
    "        events.append(roll)\n",
    "print(expectation(events, chance_of_occurrence(events)))"
   ]
  }
 ],
 "metadata": {
  "kernelspec": {
   "display_name": "Python 3",
   "language": "python",
   "name": "python3"
  },
  "language_info": {
   "codemirror_mode": {
    "name": "ipython",
    "version": 3
   },
   "file_extension": ".py",
   "mimetype": "text/x-python",
   "name": "python",
   "nbconvert_exporter": "python",
   "pygments_lexer": "ipython3",
   "version": "3.5.0"
  }
 },
 "nbformat": 4,
 "nbformat_minor": 1
}
